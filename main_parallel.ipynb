{
 "cells": [
  {
   "cell_type": "code",
   "execution_count": 1,
   "id": "fbdfb442",
   "metadata": {},
   "outputs": [],
   "source": [
    "import pandas as pd\n",
    "import numpy as np\n",
    "from datetime import datetime\n",
    "from typing import Dict, List, Tuple, Optional, Any\n",
    "from dataclasses import dataclass\n",
    "import asyncio\n",
    "from concurrent.futures import ThreadPoolExecutor\n",
    "import os\n",
    "from groq import Groq\n",
    "from langchain_groq import ChatGroq\n",
    "from dotenv import load_dotenv\n",
    "import json\n",
    "from langgraph.graph import Graph, StateGraph, END, START\n",
    "from langgraph.graph.message import add_messages\n",
    "from typing_extensions import TypedDict\n",
    "import logging\n",
    "from typing import Dict, Any\n",
    "from langgraph.graph import StateGraph, MessagesState\n",
    "from pydantic import BaseModel, Field\n",
    "from datetime import date\n",
    "\n",
    "# Configure logging\n",
    "logging.basicConfig(level=logging.INFO)\n",
    "logger = logging.getLogger(__name__)"
   ]
  },
  {
   "cell_type": "code",
   "execution_count": 2,
   "id": "a9415795",
   "metadata": {},
   "outputs": [
    {
     "data": {
      "text/plain": [
       "True"
      ]
     },
     "execution_count": 2,
     "metadata": {},
     "output_type": "execute_result"
    }
   ],
   "source": [
    "load_dotenv()"
   ]
  },
  {
   "cell_type": "code",
   "execution_count": 3,
   "id": "423d91d0",
   "metadata": {},
   "outputs": [],
   "source": [
    "llm = ChatGroq(\n",
    "    model=\"deepseek-r1-distill-llama-70b\",\n",
    "    temperature=0,\n",
    "    max_tokens=None,\n",
    "    timeout=None,\n",
    "    max_retries=2\n",
    ")"
   ]
  },
  {
   "cell_type": "code",
   "execution_count": 4,
   "id": "72f84215",
   "metadata": {},
   "outputs": [],
   "source": [
    "from pydantic import BaseModel, Field\n",
    "\n",
    "class ColumnSchema(BaseModel):\n",
    "    transaction_date: str = Field(..., description=\"Column name for transaction date\")\n",
    "    debit: str = Field(..., description=\"Column name for debit amount\")\n",
    "    credit: str = Field(..., description=\"Column name for credit amount\")\n"
   ]
  },
  {
   "cell_type": "code",
   "execution_count": null,
   "id": "808176d0",
   "metadata": {},
   "outputs": [],
   "source": [
    "class BankReconciliationState(BaseModel):\n",
    "    bank_data: str\n",
    "    erp_data: str\n",
    "    bank_columns: Optional[ColumnSchema] = None\n",
    "    erp_columns: Optional[ColumnSchema] = None\n",
    "    bank_chunk_data: Optional[dict] = None\n",
    "    erp_chunk_data: Optional[dict] = None"
   ]
  },
  {
   "cell_type": "code",
   "execution_count": 6,
   "id": "e5fa43f1",
   "metadata": {},
   "outputs": [],
   "source": [
    "structured_model_column = llm.with_structured_output(ColumnSchema)"
   ]
  },
  {
   "cell_type": "code",
   "execution_count": 7,
   "id": "b9870b5e",
   "metadata": {},
   "outputs": [],
   "source": [
    "# Reusable function for detecting columns\n",
    "def detect_columns(file_path: str):\n",
    "    df = pd.read_csv(file_path)\n",
    "    subset_data = df.head(5)\n",
    "    prompt = f\"\"\"\n",
    "    From the following dataset, identify which column corresponds to:\n",
    "    - transaction_date\n",
    "    - debit\n",
    "    - credit\n",
    "\n",
    "    Dataset sample:\n",
    "    {subset_data.to_dict(orient='records')}\n",
    "    \"\"\"\n",
    "    return structured_model_column.invoke(prompt)\n",
    "\n",
    "\n",
    "# Node: find columns in bank dataset\n",
    "def find_bank_columns(state: BankReconciliationState):\n",
    "    result = detect_columns(state.bank_data)\n",
    "    return {\"bank_columns\": result}\n",
    "\n",
    "\n",
    "# Node: find columns in ERP dataset\n",
    "def find_erp_columns(state: BankReconciliationState):\n",
    "    result = detect_columns(state.erp_data)\n",
    "    return {\"erp_columns\": result}"
   ]
  },
  {
   "cell_type": "code",
   "execution_count": 9,
   "id": "1ef9944f",
   "metadata": {},
   "outputs": [],
   "source": [
    "import pandas as pd\n",
    "\n",
    "def chunk_dataset(state: BankReconciliationState):\n",
    "    \"\"\"\n",
    "    Split both datasets into chunks of up to 3 days each.\n",
    "    Keep only 'transaction_date', 'debit', 'credit' columns in state data.\n",
    "    \"\"\"\n",
    "\n",
    "    bank_date_column = state.bank_columns.transaction_date\n",
    "    erp_date_column = state.erp_columns.transaction_date\n",
    "\n",
    "    # Load datasets\n",
    "    bank_df = pd.read_csv(state.bank_data)\n",
    "    erp_df = pd.read_csv(state.erp_data)\n",
    "\n",
    "    # Ensure transaction_date is datetime\n",
    "    bank_df[bank_date_column] = pd.to_datetime(bank_df[bank_date_column], errors=\"coerce\")\n",
    "    erp_df[erp_date_column] = pd.to_datetime(erp_df[erp_date_column], errors=\"coerce\")\n",
    "\n",
    "    # Drop invalid dates\n",
    "    bank_df = bank_df.dropna(subset=[bank_date_column])\n",
    "    erp_df = erp_df.dropna(subset=[erp_date_column])\n",
    "\n",
    "    # Helper function to chunk by 3-day windows\n",
    "    def split_by_days(df, date_column):\n",
    "        if df.empty:\n",
    "            return []\n",
    "        df = df.sort_values(by=date_column).reset_index(drop=True)\n",
    "        min_date, max_date = df[date_column].min(), df[date_column].max()\n",
    "\n",
    "        if (max_date - min_date).days < 3:\n",
    "            return [df]\n",
    "\n",
    "        chunks = []\n",
    "        start_date = min_date\n",
    "        while start_date <= max_date:\n",
    "            end_date = start_date + pd.Timedelta(days=2)\n",
    "            chunk = df[(df[date_column] >= start_date) & (df[date_column] <= end_date)]\n",
    "            if not chunk.empty:\n",
    "                chunks.append(chunk.reset_index(drop=True))\n",
    "            start_date = end_date + pd.Timedelta(days=1)\n",
    "        return chunks\n",
    "\n",
    "    # Split datasets\n",
    "    bank_chunks = split_by_days(bank_df, bank_date_column)\n",
    "    erp_chunks = split_by_days(erp_df, erp_date_column)\n",
    "\n",
    "    # Ensure both have the same number of chunks (pad smaller with empty DataFrames)\n",
    "    max_chunks = max(len(bank_chunks), len(erp_chunks))\n",
    "    while len(bank_chunks) < max_chunks:\n",
    "        bank_chunks.append(pd.DataFrame(columns=bank_df.columns))\n",
    "    while len(erp_chunks) < max_chunks:\n",
    "        erp_chunks.append(pd.DataFrame(columns=erp_df.columns))\n",
    "\n",
    "    # ✅ Keep only required columns in each chunk\n",
    "    required_cols = [bank_date_column, state.bank_columns.debit, state.bank_columns.credit]\n",
    "    state.bank_chunk_data = [chunk[required_cols].copy() for chunk in bank_chunks]\n",
    "    state.erp_chunk_data = [chunk[[erp_date_column, state.erp_columns.debit, state.erp_columns.credit]].copy() for chunk in erp_chunks]\n",
    "\n",
    "    return {\n",
    "        \"bank_chunk_data\": state.bank_chunk_data,\n",
    "        \"erp_chunk_data\": state.erp_chunk_data\n",
    "    }\n"
   ]
  },
  {
   "cell_type": "code",
   "execution_count": 10,
   "id": "21bc96f9",
   "metadata": {},
   "outputs": [],
   "source": [
    "# --- Build workflow ---\n",
    "graph = StateGraph(BankReconciliationState)\n",
    "\n",
    "# Add nodes\n",
    "graph.add_node(\"find_bank_columns\", find_bank_columns)\n",
    "graph.add_node(\"find_erp_columns\", find_erp_columns)\n",
    "graph.add_node(\"chunk_dataset\", chunk_dataset)\n",
    "\n",
    "# Connect edges\n",
    "graph.add_edge(START, \"find_bank_columns\")\n",
    "graph.add_edge(START, \"find_erp_columns\")\n",
    "\n",
    "# chunk_dataset depends on both find columns nodes\n",
    "graph.add_edge(\"find_bank_columns\", \"chunk_dataset\")\n",
    "graph.add_edge(\"find_erp_columns\", \"chunk_dataset\")\n",
    "\n",
    "# chunk_dataset connects to END\n",
    "graph.add_edge(\"chunk_dataset\", END)\n",
    "\n",
    "# Compile workflow\n",
    "workflow = graph.compile()\n"
   ]
  },
  {
   "cell_type": "code",
   "execution_count": 11,
   "id": "013808ce",
   "metadata": {},
   "outputs": [
    {
     "name": "stderr",
     "output_type": "stream",
     "text": [
      "INFO:pyppeteer.launcher:Browser listening on: ws://127.0.0.1:36263/devtools/browser/38395713-4009-4476-902d-7540eeb2cbf8\n",
      "INFO:pyppeteer.launcher:terminate chrome process...\n"
     ]
    },
    {
     "data": {
      "image/png": "[encoded data removed]",
      "text/plain": [
       "<IPython.core.display.Image object>"
      ]
     },
     "metadata": {},
     "output_type": "display_data"
    }
   ],
   "source": [
    "# from IPython.display import Image, display\n",
    "# Image(workflow.get_graph().draw_mermaid_png())\n",
    "\n",
    "\n",
    "import nest_asyncio\n",
    "from IPython.display import Image, display\n",
    "from langchain_core.runnables.graph_mermaid import MermaidDrawMethod\n",
    "\n",
    "nest_asyncio.apply()  # patch the running event loop\n",
    "\n",
    "# Render workflow graph locally\n",
    "png = workflow.get_graph().draw_mermaid_png(draw_method=MermaidDrawMethod.PYPPETEER)\n",
    "display(Image(png))\n"
   ]
  },
  {
   "cell_type": "code",
   "execution_count": 12,
   "id": "fcbc6c57",
   "metadata": {},
   "outputs": [
    {
     "name": "stderr",
     "output_type": "stream",
     "text": [
      "INFO:httpx:HTTP Request: POST https://api.groq.com/openai/v1/chat/completions \"HTTP/1.1 200 OK\"\n",
      "INFO:httpx:HTTP Request: POST https://api.groq.com/openai/v1/chat/completions \"HTTP/1.1 200 OK\"\n"
     ]
    },
    {
     "name": "stdout",
     "output_type": "stream",
     "text": [
      "Bank Columns: transaction_date='TRN DATE' debit='DEBIT' credit='CREDIT'\n",
      "ERP Columns: transaction_date='Date' debit='Debit' credit='Credit'\n"
     ]
    }
   ],
   "source": [
    "# Run with both datasets\n",
    "initial_state = {\n",
    "    \"erp_data\": \"Dataset/Pubali # 41774-ERP.csv\",\n",
    "    \"bank_data\": \"Dataset/Pubali # 41774.csv\"\n",
    "}\n",
    "result = workflow.invoke(initial_state)\n",
    "\n",
    "print(\"Bank Columns:\", result[\"bank_columns\"])\n",
    "print(\"ERP Columns:\", result[\"erp_columns\"])"
   ]
  },
  {
   "cell_type": "code",
   "execution_count": 13,
   "id": "28171061",
   "metadata": {},
   "outputs": [],
   "source": [
    "bank_columns = result[\"bank_columns\"]\n",
    "erp_columns = result[\"erp_columns\"]"
   ]
  },
  {
   "cell_type": "code",
   "execution_count": 14,
   "id": "ce972f14",
   "metadata": {},
   "outputs": [
    {
     "name": "stdout",
     "output_type": "stream",
     "text": [
      "TRN DATE \n",
      " DEBIT \n",
      " CREDIT\n"
     ]
    }
   ],
   "source": [
    "# Option 1: Access each value individually\n",
    "transaction_date = bank_columns.transaction_date\n",
    "debit = bank_columns.debit\n",
    "credit = bank_columns.credit\n",
    "\n",
    "print(transaction_date, \"\\n\", debit, \"\\n\", credit)"
   ]
  },
  {
   "cell_type": "code",
   "execution_count": 15,
   "id": "6f357c12",
   "metadata": {},
   "outputs": [
    {
     "name": "stdout",
     "output_type": "stream",
     "text": [
      "Date \n",
      " Debit \n",
      " Credit\n"
     ]
    }
   ],
   "source": [
    "# Option 1: Access each value individually\n",
    "transaction_date = erp_columns.transaction_date\n",
    "debit = erp_columns.debit\n",
    "credit = erp_columns.credit\n",
    "\n",
    "print(transaction_date, \"\\n\", debit, \"\\n\", credit)"
   ]
  },
  {
   "cell_type": "code",
   "execution_count": 16,
   "id": "e67f6a6e",
   "metadata": {},
   "outputs": [
    {
     "data": {
      "text/plain": [
       "11"
      ]
     },
     "execution_count": 16,
     "metadata": {},
     "output_type": "execute_result"
    }
   ],
   "source": [
    "len(result[\"bank_chunk_data\"])"
   ]
  },
  {
   "cell_type": "code",
   "execution_count": 17,
   "id": "8df1cecf",
   "metadata": {},
   "outputs": [
    {
     "data": {
      "text/html": [
       "<div>\n",
       "<style scoped>\n",
       "    .dataframe tbody tr th:only-of-type {\n",
       "        vertical-align: middle;\n",
       "    }\n",
       "\n",
       "    .dataframe tbody tr th {\n",
       "        vertical-align: top;\n",
       "    }\n",
       "\n",
       "    .dataframe thead th {\n",
       "        text-align: right;\n",
       "    }\n",
       "</style>\n",
       "<table border=\"1\" class=\"dataframe\">\n",
       "  <thead>\n",
       "    <tr style=\"text-align: right;\">\n",
       "      <th></th>\n",
       "      <th>TRN DATE</th>\n",
       "      <th>DEBIT</th>\n",
       "      <th>CREDIT</th>\n",
       "    </tr>\n",
       "  </thead>\n",
       "  <tbody>\n",
       "    <tr>\n",
       "      <th>0</th>\n",
       "      <td>2025-02-07</td>\n",
       "      <td>NaN</td>\n",
       "      <td>16,000.00</td>\n",
       "    </tr>\n",
       "    <tr>\n",
       "      <th>1</th>\n",
       "      <td>2025-02-07</td>\n",
       "      <td>NaN</td>\n",
       "      <td>16,000.00</td>\n",
       "    </tr>\n",
       "    <tr>\n",
       "      <th>2</th>\n",
       "      <td>2025-02-07</td>\n",
       "      <td>NaN</td>\n",
       "      <td>20,000.00</td>\n",
       "    </tr>\n",
       "    <tr>\n",
       "      <th>3</th>\n",
       "      <td>2025-02-07</td>\n",
       "      <td>NaN</td>\n",
       "      <td>100,000.00</td>\n",
       "    </tr>\n",
       "    <tr>\n",
       "      <th>4</th>\n",
       "      <td>2025-02-07</td>\n",
       "      <td>NaN</td>\n",
       "      <td>30,000.00</td>\n",
       "    </tr>\n",
       "    <tr>\n",
       "      <th>...</th>\n",
       "      <td>...</td>\n",
       "      <td>...</td>\n",
       "      <td>...</td>\n",
       "    </tr>\n",
       "    <tr>\n",
       "      <th>83</th>\n",
       "      <td>2025-02-07</td>\n",
       "      <td>NaN</td>\n",
       "      <td>10,000.00</td>\n",
       "    </tr>\n",
       "    <tr>\n",
       "      <th>84</th>\n",
       "      <td>2025-02-07</td>\n",
       "      <td>NaN</td>\n",
       "      <td>5,000.00</td>\n",
       "    </tr>\n",
       "    <tr>\n",
       "      <th>85</th>\n",
       "      <td>2025-02-07</td>\n",
       "      <td>NaN</td>\n",
       "      <td>50,000.00</td>\n",
       "    </tr>\n",
       "    <tr>\n",
       "      <th>86</th>\n",
       "      <td>2025-02-07</td>\n",
       "      <td>NaN</td>\n",
       "      <td>114,500.00</td>\n",
       "    </tr>\n",
       "    <tr>\n",
       "      <th>87</th>\n",
       "      <td>2025-02-07</td>\n",
       "      <td>NaN</td>\n",
       "      <td>21,600.00</td>\n",
       "    </tr>\n",
       "  </tbody>\n",
       "</table>\n",
       "<p>88 rows × 3 columns</p>\n",
       "</div>"
      ],
      "text/plain": [
       "     TRN DATE DEBIT      CREDIT\n",
       "0  2025-02-07   NaN   16,000.00\n",
       "1  2025-02-07   NaN   16,000.00\n",
       "2  2025-02-07   NaN   20,000.00\n",
       "3  2025-02-07   NaN  100,000.00\n",
       "4  2025-02-07   NaN   30,000.00\n",
       "..        ...   ...         ...\n",
       "83 2025-02-07   NaN   10,000.00\n",
       "84 2025-02-07   NaN    5,000.00\n",
       "85 2025-02-07   NaN   50,000.00\n",
       "86 2025-02-07   NaN  114,500.00\n",
       "87 2025-02-07   NaN   21,600.00\n",
       "\n",
       "[88 rows x 3 columns]"
      ]
     },
     "execution_count": 17,
     "metadata": {},
     "output_type": "execute_result"
    }
   ],
   "source": [
    "result[\"bank_chunk_data\"][0]"
   ]
  },
  {
   "cell_type": "code",
   "execution_count": 18,
   "id": "8661a282",
   "metadata": {},
   "outputs": [
    {
     "data": {
      "text/html": [
       "<div>\n",
       "<style scoped>\n",
       "    .dataframe tbody tr th:only-of-type {\n",
       "        vertical-align: middle;\n",
       "    }\n",
       "\n",
       "    .dataframe tbody tr th {\n",
       "        vertical-align: top;\n",
       "    }\n",
       "\n",
       "    .dataframe thead th {\n",
       "        text-align: right;\n",
       "    }\n",
       "</style>\n",
       "<table border=\"1\" class=\"dataframe\">\n",
       "  <thead>\n",
       "    <tr style=\"text-align: right;\">\n",
       "      <th></th>\n",
       "      <th>Date</th>\n",
       "      <th>Debit</th>\n",
       "      <th>Credit</th>\n",
       "    </tr>\n",
       "  </thead>\n",
       "  <tbody>\n",
       "    <tr>\n",
       "      <th>0</th>\n",
       "      <td>2025-07-01</td>\n",
       "      <td>6160.0</td>\n",
       "      <td>NaN</td>\n",
       "    </tr>\n",
       "    <tr>\n",
       "      <th>1</th>\n",
       "      <td>2025-07-01</td>\n",
       "      <td>11000.0</td>\n",
       "      <td>NaN</td>\n",
       "    </tr>\n",
       "    <tr>\n",
       "      <th>2</th>\n",
       "      <td>2025-07-02</td>\n",
       "      <td>50000.0</td>\n",
       "      <td>NaN</td>\n",
       "    </tr>\n",
       "    <tr>\n",
       "      <th>3</th>\n",
       "      <td>2025-07-02</td>\n",
       "      <td>8000.0</td>\n",
       "      <td>NaN</td>\n",
       "    </tr>\n",
       "    <tr>\n",
       "      <th>4</th>\n",
       "      <td>2025-07-02</td>\n",
       "      <td>20000.0</td>\n",
       "      <td>NaN</td>\n",
       "    </tr>\n",
       "    <tr>\n",
       "      <th>...</th>\n",
       "      <td>...</td>\n",
       "      <td>...</td>\n",
       "      <td>...</td>\n",
       "    </tr>\n",
       "    <tr>\n",
       "      <th>147</th>\n",
       "      <td>2025-07-03</td>\n",
       "      <td>100000.0</td>\n",
       "      <td>NaN</td>\n",
       "    </tr>\n",
       "    <tr>\n",
       "      <th>148</th>\n",
       "      <td>2025-07-03</td>\n",
       "      <td>6600.0</td>\n",
       "      <td>NaN</td>\n",
       "    </tr>\n",
       "    <tr>\n",
       "      <th>149</th>\n",
       "      <td>2025-07-03</td>\n",
       "      <td>71000.0</td>\n",
       "      <td>NaN</td>\n",
       "    </tr>\n",
       "    <tr>\n",
       "      <th>150</th>\n",
       "      <td>2025-07-03</td>\n",
       "      <td>12000.0</td>\n",
       "      <td>NaN</td>\n",
       "    </tr>\n",
       "    <tr>\n",
       "      <th>151</th>\n",
       "      <td>2025-07-03</td>\n",
       "      <td>6600.0</td>\n",
       "      <td>NaN</td>\n",
       "    </tr>\n",
       "  </tbody>\n",
       "</table>\n",
       "<p>152 rows × 3 columns</p>\n",
       "</div>"
      ],
      "text/plain": [
       "          Date     Debit  Credit\n",
       "0   2025-07-01    6160.0     NaN\n",
       "1   2025-07-01   11000.0     NaN\n",
       "2   2025-07-02   50000.0     NaN\n",
       "3   2025-07-02    8000.0     NaN\n",
       "4   2025-07-02   20000.0     NaN\n",
       "..         ...       ...     ...\n",
       "147 2025-07-03  100000.0     NaN\n",
       "148 2025-07-03    6600.0     NaN\n",
       "149 2025-07-03   71000.0     NaN\n",
       "150 2025-07-03   12000.0     NaN\n",
       "151 2025-07-03    6600.0     NaN\n",
       "\n",
       "[152 rows x 3 columns]"
      ]
     },
     "execution_count": 18,
     "metadata": {},
     "output_type": "execute_result"
    }
   ],
   "source": [
    "result[\"erp_chunk_data\"][0]"
   ]
  },
  {
   "cell_type": "code",
   "execution_count": null,
   "id": "871223cb",
   "metadata": {},
   "outputs": [],
   "source": []
  }
 ],
 "metadata": {
  "kernelspec": {
   "display_name": "agent",
   "language": "python",
   "name": "python3"
  },
  "language_info": {
   "codemirror_mode": {
    "name": "ipython",
    "version": 3
   },
   "file_extension": ".py",
   "mimetype": "text/x-python",
   "name": "python",
   "nbconvert_exporter": "python",
   "pygments_lexer": "ipython3",
   "version": "3.10.18"
  }
 },
 "nbformat": 4,
 "nbformat_minor": 5
}
