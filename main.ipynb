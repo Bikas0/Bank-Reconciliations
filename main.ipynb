{
 "cells": [
  {
   "cell_type": "code",
   "execution_count": 1,
   "id": "fbdfb442",
   "metadata": {},
   "outputs": [],
   "source": [
    "# Import all required libraries\n",
    "from dotenv import load_dotenv\n",
    "from langchain_groq import ChatGroq\n",
    "from pydantic import BaseModel, Field\n",
    "from typing import Optional, List\n",
    "import pandas as pd\n",
    "from langgraph.graph import StateGraph, END, START\n",
    "import re\n",
    "\n",
    "# Load environment\n",
    "load_dotenv()\n",
    "\n",
    "# Initialize LLM\n",
    "llm = ChatGroq(\n",
    "    model='openai/gpt-oss-120b',\n",
    "    temperature=0,\n",
    "    max_tokens=None,\n",
    "    timeout=None,\n",
    "    max_retries=2\n",
    ")"
   ]
  },
  {
   "cell_type": "code",
   "execution_count": 2,
   "id": "a9415795",
   "metadata": {},
   "outputs": [],
   "source": [
    "# Define Pydantic models\n",
    "class ColumnSchema(BaseModel):\n",
    "    transaction_date: str = Field(..., description='Column name for transaction date')\n",
    "    debit: str = Field(..., description='Column name for debit amount')\n",
    "    credit: str = Field(..., description='Column name for credit amount')\n",
    "\n",
    "class BankReconciliationState(BaseModel):\n",
    "    bank_data: str\n",
    "    erp_data: str\n",
    "    bank_columns: Optional[ColumnSchema] = None\n",
    "    erp_columns: Optional[ColumnSchema] = None\n",
    "    bank_chunk_data: Optional[List[pd.DataFrame]] = None\n",
    "    erp_chunk_data: Optional[List[pd.DataFrame]] = None\n",
    "    erp_chunk_amount: Optional[dict] = None\n",
    "    bank_chunk_amount: Optional[dict] = None\n",
    "\n",
    "    model_config = {\n",
    "        'arbitrary_types_allowed': True\n",
    "    }"
   ]
  },
  {
   "cell_type": "code",
   "execution_count": 3,
   "id": "423d91d0",
   "metadata": {},
   "outputs": [],
   "source": [
    "def find_bank_columns(state: BankReconciliationState):\n",
    "    # Use hardcoded column names based on dataset inspection\n",
    "    result = ColumnSchema(\n",
    "        transaction_date='TRN DATE',\n",
    "        debit='DEBIT',\n",
    "        credit='CREDIT'\n",
    "    )\n",
    "    return {\"bank_columns\": result}\n",
    "\n",
    "def find_erp_columns(state: BankReconciliationState):\n",
    "    # Use hardcoded column names based on dataset inspection\n",
    "    result = ColumnSchema(\n",
    "        transaction_date='Date',\n",
    "        debit='Debit',\n",
    "        credit='Credit'\n",
    "    )\n",
    "    return {\"erp_columns\": result}\n",
    "\n",
    "def chunk_dataset(state: BankReconciliationState):\n",
    "    \"\"\"Split both datasets into chunks of up to 3 days each.\"\"\"\n",
    "    bank_date_column = state.bank_columns.transaction_date\n",
    "    erp_date_column = state.erp_columns.transaction_date\n",
    "\n",
    "    # Load datasets\n",
    "    bank_df = pd.read_csv(state.bank_data)\n",
    "    erp_df = pd.read_csv(state.erp_data)\n",
    "\n",
    "    # Ensure transaction_date is datetime\n",
    "    bank_df[bank_date_column] = pd.to_datetime(bank_df[bank_date_column], errors=\"coerce\")\n",
    "    erp_df[erp_date_column] = pd.to_datetime(erp_df[erp_date_column], errors=\"coerce\")\n",
    "\n",
    "    # Drop invalid dates\n",
    "    bank_df = bank_df.dropna(subset=[bank_date_column])\n",
    "    erp_df = erp_df.dropna(subset=[erp_date_column])\n",
    "\n",
    "    def split_by_days(df, date_column):\n",
    "        if df.empty:\n",
    "            return []\n",
    "        df = df.sort_values(by=date_column).reset_index(drop=True)\n",
    "        min_date, max_date = df[date_column].min(), df[date_column].max()\n",
    "\n",
    "        if (max_date - min_date).days < 2:\n",
    "            return [df]\n",
    "\n",
    "        chunks = []\n",
    "        start_date = min_date\n",
    "        while start_date <= max_date:\n",
    "            end_date = start_date + pd.Timedelta(days=1)\n",
    "            chunk = df[(df[date_column] >= start_date) & (df[date_column] <= end_date)]\n",
    "            if not chunk.empty:\n",
    "                chunks.append(chunk.reset_index(drop=True))\n",
    "            start_date = end_date + pd.Timedelta(days=1)\n",
    "        return chunks\n",
    "\n",
    "    # Split datasets\n",
    "    bank_chunks = split_by_days(bank_df, bank_date_column)\n",
    "    erp_chunks = split_by_days(erp_df, erp_date_column)\n",
    "\n",
    "    # Ensure both have the same number of chunks\n",
    "    max_chunks = max(len(bank_chunks), len(erp_chunks))\n",
    "    while len(bank_chunks) < max_chunks:\n",
    "        bank_chunks.append(pd.DataFrame(columns=bank_df.columns))\n",
    "    while len(erp_chunks) < max_chunks:\n",
    "        erp_chunks.append(pd.DataFrame(columns=erp_df.columns))\n",
    "\n",
    "    # Keep only required columns in each chunk\n",
    "    required_cols = [bank_date_column, state.bank_columns.debit, state.bank_columns.credit]\n",
    "    state.bank_chunk_data = [chunk[required_cols].copy() for chunk in bank_chunks]\n",
    "    state.erp_chunk_data = [chunk[[erp_date_column, state.erp_columns.debit, state.erp_columns.credit]].copy() for chunk in erp_chunks]\n",
    "\n",
    "    return {\n",
    "        \"bank_chunk_data\": state.bank_chunk_data,\n",
    "        \"erp_chunk_data\": state.erp_chunk_data\n",
    "    }"
   ]
  },
  {
   "cell_type": "code",
   "execution_count": null,
   "id": "808176d0",
   "metadata": {},
   "outputs": [
    {
     "name": "stdout",
     "output_type": "stream",
     "text": [
      "✅ Helper functions defined\n"
     ]
    }
   ],
   "source": [
    "def reconciliations(state: BankReconciliationState):\n",
    "    \"\"\"LLM-powered reconciliation function that generates Python code for calculations.\"\"\"\n",
    "    import pandas as pd\n",
    "    import re\n",
    "    \n",
    "    # Take first chunk of each dataset\n",
    "    bank_df = state.bank_chunk_data[0]\n",
    "    erp_df = state.erp_chunk_data[0]\n",
    "    \n",
    "    # Extract dynamic column names from state\n",
    "    bank_transaction_date = state.bank_columns.transaction_date\n",
    "    bank_credit = state.bank_columns.credit\n",
    "    bank_debit = state.bank_columns.debit\n",
    "    erp_transaction_date = state.erp_columns.transaction_date\n",
    "    erp_credit = state.erp_columns.credit\n",
    "    erp_debit = state.erp_columns.debit\n",
    "    \n",
    "    # Create a detailed prompt for the LLM to generate Python code\n",
    "    bank_sample = bank_df.head(5).to_string() if not bank_df.empty else \"No data\"\n",
    "    erp_sample = erp_df.head(5).to_string() if not erp_df.empty else \"No data\"\n",
    "    \n",
    "    prompt = f\"\"\"You are a financial analyst. Write Python code to calculate net balance for two datasets.\n",
    "\n",
    "Bank dataset columns:\n",
    "- Transaction date: \"{bank_transaction_date}\"\n",
    "- Debit: \"{bank_debit}\" \n",
    "- Credit: \"{bank_credit}\"\n",
    "\n",
    "ERP dataset columns:\n",
    "- Transaction date: \"{erp_transaction_date}\"\n",
    "- Debit: \"{erp_debit}\"\n",
    "- Credit: \"{erp_credit}\"\n",
    "\n",
    "Sample bank data:\n",
    "{bank_sample}\n",
    "\n",
    "Sample ERP data:\n",
    "{erp_sample}\n",
    "\n",
    "Task: Write Python code to calculate net balance (total_credit - total_debit) for bank dataset and (total_debit - total_credit) for erp dataset.\n",
    "\n",
    "Requirements:\n",
    "1. Convert columns to numeric, handling commas and NaN values as 0\n",
    "2. Calculate: bank_net_balance = bank_total_credit - bank_total_debit\n",
    "3. Calculate: erp_net_balance = erp_total_debit - erp_total_credit \n",
    "4. Use the exact column names provided above\n",
    "5. Return only executable Python code, no explanations or markdown\n",
    "\n",
    "Example format:\n",
    "# Clean bank data\n",
    "bank_df['{bank_credit}'] = pd.to_numeric(bank_df['{bank_credit}'].astype(str).str.replace(',', ''), errors='coerce').fillna(0)\n",
    "bank_df['{bank_debit}'] = pd.to_numeric(bank_df['{bank_debit}'].astype(str).str.replace(',', ''), errors='coerce').fillna(0)\n",
    "bank_total_credit = bank_df['{bank_credit}'].sum()\n",
    "bank_total_debit = bank_df['{bank_debit}'].sum()\n",
    "bank_net_balance = bank_total_credit - bank_total_debit\n",
    "\n",
    "# Clean ERP data\n",
    "erp_df['{erp_credit}'] = pd.to_numeric(erp_df['{erp_credit}'], errors='coerce').fillna(0)\n",
    "erp_df['{erp_debit}'] = pd.to_numeric(erp_df['{erp_debit}'], errors='coerce').fillna(0)\n",
    "erp_total_credit = erp_df['{erp_credit}'].sum()\n",
    "erp_total_debit = erp_df['{erp_debit}'].sum()\n",
    "erp_net_balance = erp_total_debit - erp_total_credit\"\"\"\n",
    "    \n",
    "    try:\n",
    "        # Use regular LLM instead of structured output to avoid tool choice errors\n",
    "        from langchain_core.messages import HumanMessage\n",
    "        response = llm.invoke([HumanMessage(content=prompt)])\n",
    "        code = response.content\n",
    "        \n",
    "        # Clean the response (remove markdown code blocks if present)\n",
    "        code = re.sub(r'```python\\n?', '', code)\n",
    "        code = re.sub(r'\\n?```', '', code)\n",
    "        code = code.strip()\n",
    "        \n",
    "        print(f\"🤖 LLM Generated Reconciliation Code:\")\n",
    "        print(code)\n",
    "        print(\"=\" * 50)\n",
    "        \n",
    "        # Execute the LLM-generated code in a safe scope\n",
    "        local_vars = {\"bank_df\": bank_df.copy(), \"erp_df\": erp_df.copy(), \"pd\": pd}\n",
    "        exec(code, {\"pd\": pd}, local_vars)\n",
    "        \n",
    "        # Extract variables from executed code\n",
    "        bank_net_balance = local_vars.get(\"bank_net_balance\")\n",
    "        erp_net_balance = local_vars.get(\"erp_net_balance\")\n",
    "        \n",
    "        if bank_net_balance is None or erp_net_balance is None:\n",
    "            raise ValueError(\"LLM code did not produce required variables\")\n",
    "        \n",
    "        # Save results in state\n",
    "        state.bank_chunk_amount = bank_net_balance\n",
    "        state.erp_chunk_amount = erp_net_balance\n",
    "        \n",
    "        print(f\"💰 LLM Calculated - Bank total: {bank_net_balance}, ERP total: {erp_net_balance}\")\n",
    "        \n",
    "    except Exception as e:\n",
    "        print(f\"⚠️ LLM calculation failed: {e}\")\n",
    "        print(\"🔄 Falling back to hardcoded calculation...\")\n",
    "        \n",
    "        # Fallback to hardcoded calculation if LLM fails\n",
    "        bank_df[bank_credit] = pd.to_numeric(bank_df[bank_credit].astype(str).str.replace(',', '').replace('nan', '0'), errors='coerce').fillna(0)\n",
    "        bank_df[bank_debit] = pd.to_numeric(bank_df[bank_debit].astype(str).str.replace(',', '').replace('nan', '0'), errors='coerce').fillna(0)\n",
    "        bank_total_credit = bank_df[bank_credit].sum()\n",
    "        bank_total_debit = bank_df[bank_debit].sum()\n",
    "        bank_net_balance = bank_total_credit - bank_total_debit\n",
    "        \n",
    "        erp_df[erp_credit] = pd.to_numeric(erp_df[erp_credit], errors='coerce').fillna(0)\n",
    "        erp_df[erp_debit] = pd.to_numeric(erp_df[erp_debit], errors='coerce').fillna(0)\n",
    "        erp_total_credit = erp_df[erp_credit].sum()\n",
    "        erp_total_debit = erp_df[erp_debit].sum()\n",
    "        erp_net_balance = erp_total_credit - erp_total_debit\n",
    "        \n",
    "        state.bank_chunk_amount = bank_net_balance\n",
    "        state.erp_chunk_amount = erp_net_balance\n",
    "        \n",
    "        print(f\"💰 Fallback Calculated - Bank total: {bank_net_balance}, ERP total: {erp_net_balance}\")\n",
    "    \n",
    "    return state\n",
    "\n",
    "print(\"✅ Helper functions defined\")\n"
   ]
  },
  {
   "cell_type": "code",
   "execution_count": 5,
   "id": "9fbe8f78",
   "metadata": {},
   "outputs": [
    {
     "name": "stdout",
     "output_type": "stream",
     "text": [
      "\n",
      "🔧 Building workflow...\n",
      "✅ Workflow built and compiled\n"
     ]
    }
   ],
   "source": [
    "\n",
    "# Build workflow\n",
    "print(\"\\n🔧 Building workflow...\")\n",
    "graph = StateGraph(BankReconciliationState)\n",
    "\n",
    "# Add nodes\n",
    "graph.add_node(\"find_bank_columns\", find_bank_columns)\n",
    "graph.add_node(\"find_erp_columns\", find_erp_columns)\n",
    "graph.add_node(\"chunk_dataset\", chunk_dataset)\n",
    "graph.add_node(\"reconciliations\", reconciliations)\n",
    "\n",
    "# Connect edges\n",
    "graph.add_edge(START, \"find_bank_columns\")\n",
    "graph.add_edge(START, \"find_erp_columns\")\n",
    "graph.add_edge(\"find_bank_columns\", \"chunk_dataset\")\n",
    "graph.add_edge(\"find_erp_columns\", \"chunk_dataset\")\n",
    "graph.add_edge(\"chunk_dataset\", \"reconciliations\")\n",
    "graph.add_edge(\"reconciliations\", END)\n",
    "\n",
    "# Compile workflow\n",
    "workflow = graph.compile()\n",
    "print(\"✅ Workflow built and compiled\")\n"
   ]
  },
  {
   "cell_type": "code",
   "execution_count": 6,
   "id": "e5fa43f1",
   "metadata": {},
   "outputs": [
    {
     "data": {
      "image/png": "[encoded data removed]",
      "text/plain": [
       "<IPython.core.display.Image object>"
      ]
     },
     "metadata": {},
     "output_type": "display_data"
    }
   ],
   "source": [
    "# from IPython.display import Image, display\n",
    "# Image(workflow.get_graph().draw_mermaid_png())\n",
    "\n",
    "\n",
    "import nest_asyncio\n",
    "from IPython.display import Image, display\n",
    "from langchain_core.runnables.graph_mermaid import MermaidDrawMethod\n",
    "\n",
    "nest_asyncio.apply()  # patch the running event loop\n",
    "\n",
    "# Render workflow graph locally\n",
    "png = workflow.get_graph().draw_mermaid_png(draw_method=MermaidDrawMethod.PYPPETEER)\n",
    "display(Image(png))\n"
   ]
  },
  {
   "cell_type": "code",
   "execution_count": 7,
   "id": "b9870b5e",
   "metadata": {},
   "outputs": [
    {
     "name": "stdout",
     "output_type": "stream",
     "text": [
      "🤖 LLM Generated Reconciliation Code:\n",
      "import pandas as pd\n",
      "\n",
      "# Assume bank_df and erp_df are already defined DataFrames\n",
      "\n",
      "# Clean Bank data\n",
      "bank_df['CREDIT'] = (\n",
      "    pd.to_numeric(\n",
      "        bank_df['CREDIT'].astype(str).str.replace(',', ''), errors='coerce'\n",
      "    ).fillna(0)\n",
      ")\n",
      "bank_df['DEBIT'] = (\n",
      "    pd.to_numeric(\n",
      "        bank_df['DEBIT'].astype(str).str.replace(',', ''), errors='coerce'\n",
      "    ).fillna(0)\n",
      ")\n",
      "\n",
      "bank_total_credit = bank_df['CREDIT'].sum()\n",
      "bank_total_debit = bank_df['DEBIT'].sum()\n",
      "bank_net_balance = bank_total_credit - bank_total_debit\n",
      "\n",
      "# Clean ERP data\n",
      "erp_df['Credit'] = (\n",
      "    pd.to_numeric(\n",
      "        erp_df['Credit'].astype(str).str.replace(',', ''), errors='coerce'\n",
      "    ).fillna(0)\n",
      ")\n",
      "erp_df['Debit'] = (\n",
      "    pd.to_numeric(\n",
      "        erp_df['Debit'].astype(str).str.replace(',', ''), errors='coerce'\n",
      "    ).fillna(0)\n",
      ")\n",
      "\n",
      "erp_total_credit = erp_df['Credit'].sum()\n",
      "erp_total_debit = erp_df['Debit'].sum()\n",
      "erp_net_balance = erp_total_debit - erp_total_credit\n",
      "\n",
      "# Results\n",
      "print(f\"Bank Net Balance: {bank_net_balance}\")\n",
      "print(f\"ERP Net Balance: {erp_net_balance}\")\n",
      "==================================================\n",
      "Bank Net Balance: 355820.0\n",
      "ERP Net Balance: 355820.0\n",
      "💰 LLM Calculated - Bank total: 355820.0, ERP total: 355820.0\n",
      "✅ Workflow executed successfully\n",
      "\n",
      "📋 Results:\n",
      "Bank Columns: transaction_date='TRN DATE' debit='DEBIT' credit='CREDIT'\n",
      "ERP Columns: transaction_date='Date' debit='Debit' credit='Credit'\n",
      "\n",
      "🏦 Bank columns - Date: TRN DATE, Debit: DEBIT, Credit: CREDIT\n",
      "🏢 ERP columns - Date: Date, Debit: Debit, Credit: Credit\n",
      "\n",
      "Bank chunk amount: 355820.0\n",
      "ERP chunk amount: 355820.0\n"
     ]
    }
   ],
   "source": [
    "initial_state = {\n",
    "    \"erp_data\": \"Dataset/Pubali # 41774-ERP.csv\",\n",
    "    \"bank_data\": \"Dataset/Pubali # 41774.csv\"\n",
    "}\n",
    "\n",
    "try:\n",
    "    result = workflow.invoke(initial_state)\n",
    "    print(\"✅ Workflow executed successfully\")\n",
    "    \n",
    "    print(\"\\n📋 Results:\")\n",
    "    print(\"Bank Columns:\", result[\"bank_columns\"])\n",
    "    print(\"ERP Columns:\", result[\"erp_columns\"])\n",
    "    \n",
    "    bank_columns = result[\"bank_columns\"]\n",
    "    erp_columns = result[\"erp_columns\"]\n",
    "    \n",
    "    print(f\"\\n🏦 Bank columns - Date: {bank_columns.transaction_date}, Debit: {bank_columns.debit}, Credit: {bank_columns.credit}\")\n",
    "    print(f\"🏢 ERP columns - Date: {erp_columns.transaction_date}, Debit: {erp_columns.debit}, Credit: {erp_columns.credit}\")\n",
    "    \n",
    "    print(f\"\\nBank chunk amount: {result['bank_chunk_amount']}\")\n",
    "    print(f\"ERP chunk amount: {result['erp_chunk_amount']}\")\n",
    "    \n",
    "except Exception as e:\n",
    "    print(f\"❌ Error running workflow: {e}\")\n",
    "    import traceback\n",
    "    traceback.print_exc()\n"
   ]
  },
  {
   "cell_type": "code",
   "execution_count": 8,
   "id": "21bc96f9",
   "metadata": {},
   "outputs": [],
   "source": [
    "bank_columns = result[\"bank_columns\"]\n",
    "erp_columns = result[\"erp_columns\"]"
   ]
  },
  {
   "cell_type": "code",
   "execution_count": 9,
   "id": "13a20961",
   "metadata": {},
   "outputs": [
    {
     "name": "stdout",
     "output_type": "stream",
     "text": [
      "TRN DATE \n",
      " DEBIT \n",
      " CREDIT\n"
     ]
    }
   ],
   "source": [
    "# Option 1: Access each value individually\n",
    "transaction_date = bank_columns.transaction_date\n",
    "debit = bank_columns.debit\n",
    "credit = bank_columns.credit\n",
    "\n",
    "print(transaction_date, \"\\n\", debit, \"\\n\", credit)"
   ]
  },
  {
   "cell_type": "code",
   "execution_count": 10,
   "id": "d6f1cd70",
   "metadata": {},
   "outputs": [
    {
     "name": "stdout",
     "output_type": "stream",
     "text": [
      "Date \n",
      " Debit \n",
      " Credit\n"
     ]
    }
   ],
   "source": [
    "# Option 1: Access each value individually\n",
    "transaction_date = erp_columns.transaction_date\n",
    "debit = erp_columns.debit\n",
    "credit = erp_columns.credit\n",
    "\n",
    "print(transaction_date, \"\\n\", debit, \"\\n\", credit)"
   ]
  },
  {
   "cell_type": "code",
   "execution_count": 18,
   "id": "7ad904ff",
   "metadata": {},
   "outputs": [
    {
     "data": {
      "text/plain": [
       "355820.0"
      ]
     },
     "execution_count": 18,
     "metadata": {},
     "output_type": "execute_result"
    }
   ],
   "source": [
    "result[\"bank_chunk_amount\"]"
   ]
  },
  {
   "cell_type": "code",
   "execution_count": 21,
   "id": "319bfeab",
   "metadata": {},
   "outputs": [
    {
     "name": "stdout",
     "output_type": "stream",
     "text": [
      "Total CREDIT: 5655820.0\n"
     ]
    }
   ],
   "source": [
    "df = pd.DataFrame(result[\"bank_chunk_data\"][0])\n",
    "\n",
    "# Convert CREDIT column to numeric (removes commas, handles NaN as 0)\n",
    "df[\"CREDIT\"] = (\n",
    "    df[\"CREDIT\"]\n",
    "    .astype(str)                 # ensure string for replace\n",
    "    .str.replace(\",\", \"\", regex=False)  # remove commas\n",
    "    .replace(\"nan\", \"0\")         # handle string \"nan\"\n",
    "    .astype(float)               # convert to float\n",
    "    .fillna(0)                   # handle actual NaN\n",
    ")\n",
    "\n",
    "# Now sum the CREDIT column\n",
    "total_credit = df[\"CREDIT\"].sum()\n",
    "\n",
    "print(\"Total CREDIT:\", total_credit)"
   ]
  },
  {
   "cell_type": "code",
   "execution_count": 22,
   "id": "3783dd38",
   "metadata": {},
   "outputs": [
    {
     "name": "stdout",
     "output_type": "stream",
     "text": [
      "Total DEBIT: 5300000.0\n"
     ]
    }
   ],
   "source": [
    "df = pd.DataFrame(result[\"bank_chunk_data\"][0])\n",
    "\n",
    "# Convert CREDIT column to numeric (removes commas, handles NaN as 0)\n",
    "df[\"DEBIT\"] = (\n",
    "    df[\"DEBIT\"]\n",
    "    .astype(str)                 # ensure string for replace\n",
    "    .str.replace(\",\", \"\", regex=False)  # remove commas\n",
    "    .replace(\"nan\", \"0\")         # handle string \"nan\"\n",
    "    .astype(float)               # convert to float\n",
    "    .fillna(0)                   # handle actual NaN\n",
    ")\n",
    "\n",
    "# Now sum the CREDIT column\n",
    "total_credit = df[\"DEBIT\"].sum()\n",
    "\n",
    "print(\"Total DEBIT:\", total_credit)"
   ]
  },
  {
   "cell_type": "code",
   "execution_count": 23,
   "id": "85bebb1b",
   "metadata": {},
   "outputs": [
    {
     "name": "stdout",
     "output_type": "stream",
     "text": [
      "Total Credit: 5300000.0\n"
     ]
    }
   ],
   "source": [
    "df = pd.DataFrame(result[\"erp_chunk_data\"][0])\n",
    "\n",
    "# Convert CREDIT column to numeric (removes commas, handles NaN as 0)\n",
    "df[\"Credit\"] = (\n",
    "    df[\"Credit\"]\n",
    "    .astype(str)                 # ensure string for replace\n",
    "    .str.replace(\",\", \"\", regex=False)  # remove commas\n",
    "    .replace(\"nan\", \"0\")         # handle string \"nan\"\n",
    "    .astype(float)               # convert to float\n",
    "    .fillna(0)                   # handle actual NaN\n",
    ")\n",
    "\n",
    "# Now sum the CREDIT column\n",
    "total_credit = df[\"Credit\"].sum()\n",
    "\n",
    "print(\"Total Credit:\", total_credit)"
   ]
  },
  {
   "cell_type": "code",
   "execution_count": 15,
   "id": "abff8426",
   "metadata": {},
   "outputs": [
    {
     "name": "stdout",
     "output_type": "stream",
     "text": [
      "Total Debit: 5655820.0\n"
     ]
    }
   ],
   "source": [
    "df = pd.DataFrame(result[\"erp_chunk_data\"][0])\n",
    "\n",
    "# Convert CREDIT column to numeric (removes commas, handles NaN as 0)\n",
    "df[\"Debit\"] = (\n",
    "    df[\"Debit\"]\n",
    "    .astype(str)                 # ensure string for replace\n",
    "    .str.replace(\",\", \"\", regex=False)  # remove commas\n",
    "    .replace(\"nan\", \"0\")         # handle string \"nan\"\n",
    "    .astype(float)               # convert to float\n",
    "    .fillna(0)                   # handle actual NaN\n",
    ")\n",
    "\n",
    "# Now sum the CREDIT column\n",
    "total_credit = df[\"Debit\"].sum()\n",
    "\n",
    "print(\"Total Debit:\", total_credit)"
   ]
  },
  {
   "cell_type": "code",
   "execution_count": 25,
   "id": "8e818d95",
   "metadata": {},
   "outputs": [
    {
     "name": "stdout",
     "output_type": "stream",
     "text": [
      "Total Credit: 5300000.0\n"
     ]
    }
   ],
   "source": [
    "df = pd.DataFrame(result[\"erp_chunk_data\"][0])\n",
    "\n",
    "# Convert CREDIT column to numeric (removes commas, handles NaN as 0)\n",
    "df[\"Credit\"] = (\n",
    "    df[\"Credit\"]\n",
    "    .astype(str)                 # ensure string for replace\n",
    "    .str.replace(\",\", \"\", regex=False)  # remove commas\n",
    "    .replace(\"nan\", \"0\")         # handle string \"nan\"\n",
    "    .astype(float)               # convert to float\n",
    "    .fillna(0)                   # handle actual NaN\n",
    ")\n",
    "\n",
    "# Now sum the CREDIT column\n",
    "total_credit = df[\"Credit\"].sum()\n",
    "\n",
    "print(\"Total Credit:\", total_credit)"
   ]
  },
  {
   "cell_type": "code",
   "execution_count": null,
   "id": "32f1a42d",
   "metadata": {},
   "outputs": [],
   "source": []
  }
 ],
 "metadata": {
  "kernelspec": {
   "display_name": "Python 3",
   "language": "python",
   "name": "python3"
  },
  "language_info": {
   "codemirror_mode": {
    "name": "ipython",
    "version": 3
   },
   "file_extension": ".py",
   "mimetype": "text/x-python",
   "name": "python",
   "nbconvert_exporter": "python",
   "pygments_lexer": "ipython3",
   "version": "3.10.18"
  }
 },
 "nbformat": 4,
 "nbformat_minor": 5
}
