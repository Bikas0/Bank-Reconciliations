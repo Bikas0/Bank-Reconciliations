{
 "cells": [
  {
   "cell_type": "code",
   "execution_count": 14,
   "id": "fbdfb442",
   "metadata": {},
   "outputs": [],
   "source": [
    "import pandas as pd\n",
    "import numpy as np\n",
    "from datetime import datetime\n",
    "from typing import Dict, List, Tuple, Optional, Any\n",
    "from dataclasses import dataclass\n",
    "import asyncio\n",
    "from concurrent.futures import ThreadPoolExecutor\n",
    "import os\n",
    "from groq import Groq\n",
    "from langchain_groq import ChatGroq\n",
    "from dotenv import load_dotenv\n",
    "import json\n",
    "from langgraph.graph import Graph, StateGraph, END, START\n",
    "from langgraph.graph.message import add_messages\n",
    "from typing_extensions import TypedDict\n",
    "import logging\n",
    "from typing import Dict, Any\n",
    "from langgraph.graph import StateGraph, MessagesState\n",
    "from pydantic import BaseModel, Field\n",
    "from datetime import date\n",
    "\n",
    "# Configure logging\n",
    "logging.basicConfig(level=logging.INFO)\n",
    "logger = logging.getLogger(__name__)"
   ]
  },
  {
   "cell_type": "code",
   "execution_count": 15,
   "id": "a9415795",
   "metadata": {},
   "outputs": [
    {
     "data": {
      "text/plain": [
       "True"
      ]
     },
     "execution_count": 15,
     "metadata": {},
     "output_type": "execute_result"
    }
   ],
   "source": [
    "load_dotenv()"
   ]
  },
  {
   "cell_type": "code",
   "execution_count": 16,
   "id": "423d91d0",
   "metadata": {},
   "outputs": [],
   "source": [
    "llm = ChatGroq(\n",
    "    model=\"deepseek-r1-distill-llama-70b\",\n",
    "    temperature=0,\n",
    "    max_tokens=None,\n",
    "    timeout=None,\n",
    "    max_retries=2\n",
    ")"
   ]
  },
  {
   "cell_type": "code",
   "execution_count": 17,
   "id": "808176d0",
   "metadata": {},
   "outputs": [],
   "source": [
    "# Define State\n",
    "class BankReconciliationState(BaseModel):\n",
    "    bank_data: Any\n",
    "    erp_data: Optional[Any] = None\n",
    "    columns: Optional[dict] = None  # make optional, to be filled later"
   ]
  },
  {
   "cell_type": "code",
   "execution_count": 18,
   "id": "9fbe8f78",
   "metadata": {},
   "outputs": [],
   "source": [
    "from pydantic import BaseModel, Field\n",
    "\n",
    "class ColumnSchema(BaseModel):\n",
    "    transaction_date: str = Field(..., description=\"Column name for transaction date\")\n",
    "    debit: str = Field(..., description=\"Column name for debit amount\")\n",
    "    credit: str = Field(..., description=\"Column name for credit amount\")\n"
   ]
  },
  {
   "cell_type": "code",
   "execution_count": 19,
   "id": "e5fa43f1",
   "metadata": {},
   "outputs": [],
   "source": [
    "structured_model_column = llm.with_structured_output(ColumnSchema)"
   ]
  },
  {
   "cell_type": "code",
   "execution_count": 20,
   "id": "b9870b5e",
   "metadata": {},
   "outputs": [],
   "source": [
    "# Node function\n",
    "def find_columns(state: BankReconciliationState):\n",
    "    bank_data = pd.read_csv(state.bank_data)\n",
    "    subset_data = bank_data.head(5)  # take first 5 rows dynamically\n",
    "    prompt = f\"\"\"\n",
    "    From the following dataset, identify which column corresponds to:\n",
    "    - transaction_date\n",
    "    - debit\n",
    "    - credit\n",
    "\n",
    "    Dataset sample:\n",
    "    {subset_data.to_dict(orient='records')}\n",
    "    \"\"\"\n",
    "\n",
    "    result = structured_model_column.invoke(prompt)\n",
    "    return {'columns': result}"
   ]
  },
  {
   "cell_type": "code",
   "execution_count": 21,
   "id": "21bc96f9",
   "metadata": {},
   "outputs": [],
   "source": [
    "# Build the graph\n",
    "graph = StateGraph(BankReconciliationState)\n",
    "\n",
    "graph.add_node('find_columns', find_columns)\n",
    "graph.add_edge(START, 'find_columns')\n",
    "graph.add_edge('find_columns', END)\n",
    "\n",
    "# Compile workflow\n",
    "workflow = graph.compile()\n"
   ]
  },
  {
   "cell_type": "code",
   "execution_count": 22,
   "id": "6ceb6a9b",
   "metadata": {},
   "outputs": [
    {
     "data": {
      "text/plain": [
       "<langgraph.graph.state.CompiledStateGraph at 0x7f2efd8f2950>"
      ]
     },
     "execution_count": 22,
     "metadata": {},
     "output_type": "execute_result"
    }
   ],
   "source": [
    "workflow"
   ]
  },
  {
   "cell_type": "code",
   "execution_count": 23,
   "id": "013808ce",
   "metadata": {},
   "outputs": [
    {
     "data": {
      "image/png": "[encoded data removed]",
      "text/plain": [
       "<IPython.core.display.Image object>"
      ]
     },
     "execution_count": 23,
     "metadata": {},
     "output_type": "execute_result"
    }
   ],
   "source": [
    "from IPython.display import Image, display\n",
    "Image(workflow.get_graph().draw_mermaid_png())"
   ]
  },
  {
   "cell_type": "code",
   "execution_count": 24,
   "id": "fcbc6c57",
   "metadata": {},
   "outputs": [
    {
     "name": "stderr",
     "output_type": "stream",
     "text": [
      "INFO:httpx:HTTP Request: POST https://api.groq.com/openai/v1/chat/completions \"HTTP/1.1 200 OK\"\n"
     ]
    }
   ],
   "source": [
    "intial_state={\n",
    "    'bank_data': \"Dataset/Pubali # 41774.csv\"\n",
    "}\n",
    "result = workflow.invoke(intial_state)"
   ]
  },
  {
   "cell_type": "code",
   "execution_count": 25,
   "id": "28171061",
   "metadata": {},
   "outputs": [],
   "source": [
    "columns = result[\"columns\"]"
   ]
  },
  {
   "cell_type": "code",
   "execution_count": 26,
   "id": "ce972f14",
   "metadata": {},
   "outputs": [
    {
     "name": "stdout",
     "output_type": "stream",
     "text": [
      "TRN DATE \n",
      " DEBIT \n",
      " CREDIT\n"
     ]
    }
   ],
   "source": [
    "# Option 1: Access each value individually\n",
    "transaction_date = columns.transaction_date\n",
    "debit = columns.debit\n",
    "credit = columns.credit\n",
    "\n",
    "print(transaction_date, \"\\n\", debit, \"\\n\", credit)"
   ]
  },
  {
   "cell_type": "code",
   "execution_count": null,
   "id": "e67f6a6e",
   "metadata": {},
   "outputs": [],
   "source": []
  }
 ],
 "metadata": {
  "kernelspec": {
   "display_name": "agent",
   "language": "python",
   "name": "python3"
  },
  "language_info": {
   "codemirror_mode": {
    "name": "ipython",
    "version": 3
   },
   "file_extension": ".py",
   "mimetype": "text/x-python",
   "name": "python",
   "nbconvert_exporter": "python",
   "pygments_lexer": "ipython3",
   "version": "3.10.18"
  }
 },
 "nbformat": 4,
 "nbformat_minor": 5
}
